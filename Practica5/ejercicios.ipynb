{
 "cells": [
  {
   "cell_type": "code",
   "execution_count": 2,
   "id": "79756688",
   "metadata": {
    "scrolled": false
   },
   "outputs": [
    {
     "name": "stdout",
     "output_type": "stream",
     "text": [
      "Coste de la red neuronal: 0.38%\n",
      "If your backpropagation implementation is correct, then \n",
      "the relative difference will be small (less than 1e-9). \n",
      "Relative Difference: 2.55774e-11\n",
      "Precisión de entrenamiento: 95.50%\n"
     ]
    }
   ],
   "source": [
    "from ann import cost, cost_regL2, backprop, backprop2, predict, feedForward\n",
    "from utils import checkNNGradients\n",
    "\n",
    "import numpy as np\n",
    "\n",
    "import matplotlib.pyplot as plt\n",
    "\n",
    "from scipy.io import loadmat, savemat\n",
    "from scipy.optimize import minimize\n",
    "from sklearn.metrics import accuracy_score\n",
    "from sklearn.preprocessing import OneHotEncoder\n",
    "\n",
    "#Ejercicio 1\n",
    "data = loadmat('data/ex3data1.mat', squeeze_me=True)\n",
    "y = data['y']\n",
    "X = data['X']\n",
    "\n",
    "encoder = OneHotEncoder(sparse_output=False, categories='auto')\n",
    "\n",
    "# Y es una fila de 5000 entradas. El encoder busca el rango entre el mínimo y el máximo (10) y crea una matriz de 5000 x 10\n",
    "# en la que se pone a 1 la entrada correspondiente y 0 en las demás.\n",
    "# El reshape es para que la fila la trate como una matriz de tamaño 5000 x 1\n",
    "Y = encoder.fit_transform(y.reshape(-1, 1))\n",
    "\n",
    "weights = loadmat('data/ex3weights.mat')\n",
    "theta_list = [weights['Theta1'], weights['Theta2']]\n",
    "lambda_ = 1\n",
    "\n",
    "annCost = cost_regL2(theta_list, X, Y, lambda_)\n",
    "\n",
    "print(f'Coste de la red neuronal: {annCost:.2f}%')\n",
    "\n",
    "#Ejercicio 2\n",
    "checkNNGradients(backprop2, reg_param=0)\n",
    "\n",
    "#Ejercicio 3\n",
    "epsilon = 0.12\n",
    "theta1 = np.random.rand(weights['Theta1'].shape[0], weights['Theta1'].shape[1]) * 2 * epsilon - epsilon\n",
    "theta2 = np.random.rand(weights['Theta2'].shape[0], weights['Theta2'].shape[1]) * 2 * epsilon - epsilon\n",
    "\n",
    "iterations = 1000\n",
    "lambda_ = 1\n",
    "alpha = 1\n",
    "\n",
    "for _ in range(iterations):\n",
    "    cost, grad1, grad2 = backprop2(theta1, theta2, X, Y, lambda_)\n",
    "\n",
    "    theta1 = theta1 - alpha * grad1\n",
    "    theta2 = theta2 - alpha * grad2\n",
    "\n",
    "activations, zs = feedForward([theta1, theta2], X)\n",
    "accuracy = accuracy_score(y, np.argmax(activations[-1], axis=1))\n",
    "\n",
    "print(f'Precisión de entrenamiento: {accuracy * 100:.2f}%')"
   ]
  },
  {
   "cell_type": "code",
   "execution_count": null,
   "id": "60ba0d49",
   "metadata": {},
   "outputs": [],
   "source": []
  },
  {
   "cell_type": "code",
   "execution_count": null,
   "id": "0779670e",
   "metadata": {},
   "outputs": [],
   "source": []
  },
  {
   "cell_type": "code",
   "execution_count": null,
   "id": "24d93923",
   "metadata": {},
   "outputs": [],
   "source": []
  },
  {
   "cell_type": "code",
   "execution_count": null,
   "id": "685426f2",
   "metadata": {},
   "outputs": [],
   "source": []
  }
 ],
 "metadata": {
  "kernelspec": {
   "display_name": "Python 3 (ipykernel)",
   "language": "python",
   "name": "python3"
  },
  "language_info": {
   "codemirror_mode": {
    "name": "ipython",
    "version": 3
   },
   "file_extension": ".py",
   "mimetype": "text/x-python",
   "name": "python",
   "nbconvert_exporter": "python",
   "pygments_lexer": "ipython3",
   "version": "3.11.4"
  }
 },
 "nbformat": 4,
 "nbformat_minor": 5
}
