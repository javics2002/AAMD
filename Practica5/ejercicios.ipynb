{
 "cells": [
  {
   "cell_type": "code",
   "execution_count": 1,
   "id": "79756688",
   "metadata": {
    "scrolled": false
   },
   "outputs": [
    {
     "name": "stderr",
     "output_type": "stream",
     "text": [
      "C:\\Users\\Javier\\Desktop\\AAMD\\Practica5\\ann.py:108: RuntimeWarning: divide by zero encountered in log\n",
      "  J = (-1 / m) * np.sum(y * np.log(predictions) + (1 - y) * np.log(1 - predictions))\n"
     ]
    },
    {
     "ename": "ValueError",
     "evalue": "operands could not be broadcast together with shapes (5000,10) (5000,) ",
     "output_type": "error",
     "traceback": [
      "\u001b[1;31m---------------------------------------------------------------------------\u001b[0m",
      "\u001b[1;31mValueError\u001b[0m                                Traceback (most recent call last)",
      "Cell \u001b[1;32mIn[1], line 29\u001b[0m\n\u001b[0;32m     26\u001b[0m theta_list \u001b[38;5;241m=\u001b[39m [weights[\u001b[38;5;124m'\u001b[39m\u001b[38;5;124mTheta1\u001b[39m\u001b[38;5;124m'\u001b[39m], weights[\u001b[38;5;124m'\u001b[39m\u001b[38;5;124mTheta2\u001b[39m\u001b[38;5;124m'\u001b[39m]]\n\u001b[0;32m     27\u001b[0m lambda_ \u001b[38;5;241m=\u001b[39m \u001b[38;5;241m1\u001b[39m\n\u001b[1;32m---> 29\u001b[0m annCost \u001b[38;5;241m=\u001b[39m cost(theta_list, X, Y, lambda_)\n\u001b[0;32m     30\u001b[0m \u001b[38;5;28mprint\u001b[39m(\u001b[38;5;124mf\u001b[39m\u001b[38;5;124m'\u001b[39m\u001b[38;5;124mCoste de la red neuronal: \u001b[39m\u001b[38;5;132;01m{\u001b[39;00mannCost\u001b[38;5;132;01m:\u001b[39;00m\u001b[38;5;124m.2f\u001b[39m\u001b[38;5;132;01m}\u001b[39;00m\u001b[38;5;124m%\u001b[39m\u001b[38;5;124m'\u001b[39m)\n\u001b[0;32m     32\u001b[0m checkNNGradients(backprop, reg_param\u001b[38;5;241m=\u001b[39m\u001b[38;5;241m0\u001b[39m)\n",
      "File \u001b[1;32m~\\Desktop\\AAMD\\Practica5\\ann.py:108\u001b[0m, in \u001b[0;36mcost\u001b[1;34m(theta_list, X, y, lambda_)\u001b[0m\n\u001b[0;32m    106\u001b[0m m \u001b[38;5;241m=\u001b[39m \u001b[38;5;28mlen\u001b[39m(y)\n\u001b[0;32m    107\u001b[0m predictions \u001b[38;5;241m=\u001b[39m predict(theta_list, X)\n\u001b[1;32m--> 108\u001b[0m J \u001b[38;5;241m=\u001b[39m (\u001b[38;5;241m-\u001b[39m\u001b[38;5;241m1\u001b[39m \u001b[38;5;241m/\u001b[39m m) \u001b[38;5;241m*\u001b[39m np\u001b[38;5;241m.\u001b[39msum(y \u001b[38;5;241m*\u001b[39m np\u001b[38;5;241m.\u001b[39mlog(predictions) \u001b[38;5;241m+\u001b[39m (\u001b[38;5;241m1\u001b[39m \u001b[38;5;241m-\u001b[39m y) \u001b[38;5;241m*\u001b[39m np\u001b[38;5;241m.\u001b[39mlog(\u001b[38;5;241m1\u001b[39m \u001b[38;5;241m-\u001b[39m predictions))\n\u001b[0;32m    110\u001b[0m reg_term \u001b[38;5;241m=\u001b[39m \u001b[38;5;241m0\u001b[39m\n\u001b[0;32m    111\u001b[0m \u001b[38;5;28;01mfor\u001b[39;00m theta \u001b[38;5;129;01min\u001b[39;00m theta_list:\n",
      "\u001b[1;31mValueError\u001b[0m: operands could not be broadcast together with shapes (5000,10) (5000,) "
     ]
    }
   ],
   "source": [
    "from ann import cost, backprop\n",
    "from utils import checkNNGradients\n",
    "\n",
    "import numpy as np\n",
    "\n",
    "import matplotlib.pyplot as plt\n",
    "\n",
    "from scipy.io import loadmat, savemat\n",
    "from scipy.optimize import minimize\n",
    "from sklearn.metrics import accuracy_score\n",
    "from sklearn.preprocessing import OneHotEncoder\n",
    "\n",
    "#Ejercicio 1\n",
    "data = loadmat('data/ex3data1.mat', squeeze_me=True)\n",
    "y = data['y']\n",
    "X = data['X']\n",
    "\n",
    "encoder = OneHotEncoder(sparse_output=False, categories='auto')\n",
    "\n",
    "# Y es una fila de 5000 entradas. El encoder busca el rango entre el mínimo y el máximo (10) y crea una matriz de 5000 x 10\n",
    "# en la que se pone a 1 la entrada correspondiente y 0 en las demás.\n",
    "# El reshape es para que la fila la trate como una matriz de tamaño 5000 x 1\n",
    "Y = encoder.fit_transform(y.reshape(-1, 1))\n",
    "\n",
    "weights = loadmat('data/ex3weights.mat')\n",
    "theta_list = [weights['Theta1'], weights['Theta2']]\n",
    "lambda_ = 1\n",
    "\n",
    "annCost = cost(theta_list, X, Y, lambda_)\n",
    "print(f'Coste de la red neuronal: {annCost:.2f}%')\n",
    "\n",
    "checkNNGradients(backprop, reg_param=0)\n",
    "\n",
    "epsilon = 0.12\n",
    "theta1d = np.random.rand(theta1.shape[0], theta1.shape[1]) * 2 * epsilon - epsilon\n",
    "theta2d = np.random.rand(theta2.shape[0], theta2.shape[1]) * 2 * epsilon - epsilon\n",
    "##Descenso aplicando la actualizacion de parametros\n",
    "alpha = 1  # Tasa de aprendizaje\n",
    "iterations = 1000  # Número de iteraciones\n",
    "lambdaValue= 1 #Termino de regulariacion\n",
    "\n",
    "for _ in range(iterations):\n",
    "    J, grad1, grad2 = backprop([theta1d, theta2d], X_with_bias, Y, lambda_)\n",
    "\n",
    "    # Actualización de parámetros\n",
    "    theta1d = theta1d - alpha * grad1\n",
    "    theta2d = theta2d - alpha * grad2\n",
    "\n",
    "predictions = predict([theta1d, theta2d], X_with_bias)\n",
    "\n",
    "\n",
    "\n",
    "accuracy = accuracy_score(y,np.argmax(predictions, axis=1))\n",
    "print(f'Precisión de entrenamiento: {accuracy * 100:.2f}%')\n",
    "\n",
    "\n",
    "\n",
    "\n",
    "##PARTE OPCIONAL, No funciona pero la idea es la correcta \n",
    "\n",
    "# Usar minimize para optimizar los pesos\n",
    "# params = np.concatenate([theta1d.flatten(), theta2d.flatten()])\n",
    "# result = minimize(cost, params, (theta_list,X_with_bias,Y,lambdaValue), method='TNC', options={'maxiter': 100, 'disp': True})\n",
    "\n",
    "# # Obtener parámetros aprendidos\n",
    "# learned_params = result.x\n",
    "\n",
    "\n",
    "\n",
    "# # Imprimir la precisión después de la optimización\n",
    "# theta1_size = 25 * (400 + 1)\n",
    "# optimized_theta1 = np.reshape(learned_params[:theta1_size], (25, 400 + 1))\n",
    "# optimized_theta2 = np.reshape(learned_params[theta1_size:], (10, 25 + 1))\n",
    "# optimized_theta_list = [optimized_theta1, optimized_theta2]\n",
    "\n",
    "# predictions_optimized = predict(optimized_theta_list, X_with_bias)\n",
    "# accuracy_optimized = accuracy_score(y, np.argmax(predictions_optimized, axis=1) + 1)\n",
    "# print(f'Precisión de entrenamiento después de la optimización: {accuracy_optimized * 100:.2f}%')\n",
    "\n"
   ]
  },
  {
   "cell_type": "code",
   "execution_count": null,
   "id": "60ba0d49",
   "metadata": {},
   "outputs": [],
   "source": []
  },
  {
   "cell_type": "code",
   "execution_count": null,
   "id": "0779670e",
   "metadata": {},
   "outputs": [],
   "source": []
  },
  {
   "cell_type": "code",
   "execution_count": null,
   "id": "24d93923",
   "metadata": {},
   "outputs": [],
   "source": []
  },
  {
   "cell_type": "code",
   "execution_count": null,
   "id": "865bc43e",
   "metadata": {},
   "outputs": [],
   "source": []
  }
 ],
 "metadata": {
  "kernelspec": {
   "display_name": "Python 3 (ipykernel)",
   "language": "python",
   "name": "python3"
  },
  "language_info": {
   "codemirror_mode": {
    "name": "ipython",
    "version": 3
   },
   "file_extension": ".py",
   "mimetype": "text/x-python",
   "name": "python",
   "nbconvert_exporter": "python",
   "pygments_lexer": "ipython3",
   "version": "3.11.4"
  }
 },
 "nbformat": 4,
 "nbformat_minor": 5
}
