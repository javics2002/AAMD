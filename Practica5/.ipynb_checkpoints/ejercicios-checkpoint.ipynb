{
 "cells": [
  {
   "cell_type": "code",
   "execution_count": 4,
   "id": "79756688",
   "metadata": {
    "scrolled": false
   },
   "outputs": [
    {
     "name": "stdout",
     "output_type": "stream",
     "text": [
      "(5000, 10)\n",
      "Coste de la red neuronal: 0.38%\n"
     ]
    }
   ],
   "source": [
    "from ann import cost, backprop\n",
    "from utils import checkNNGradients\n",
    "\n",
    "import numpy as np\n",
    "\n",
    "import matplotlib.pyplot as plt\n",
    "\n",
    "from scipy.io import loadmat, savemat\n",
    "from scipy.optimize import minimize\n",
    "from sklearn.metrics import accuracy_score\n",
    "from sklearn.preprocessing import OneHotEncoder\n",
    "\n",
    "#Ejercicio 1\n",
    "data = loadmat('data/ex3data1.mat', squeeze_me=True)\n",
    "y = data['y']\n",
    "X = data['X']\n",
    "\n",
    "encoder = OneHotEncoder(sparse_output=False, categories='auto')\n",
    "\n",
    "# Y es una fila de 5000 entradas. El encoder busca el rango entre el mínimo y el máximo (10) y crea una matriz de 5000 x 10\n",
    "# en la que se pone a 1 la entrada correspondiente y 0 en las demás.\n",
    "# El reshape es para que la fila la trate como una matriz de tamaño 5000 x 1\n",
    "Y = encoder.fit_transform(y.reshape(-1, 1))\n",
    "\n",
    "weights = loadmat('data/ex3weights.mat')\n",
    "theta_list = [weights['Theta1'], weights['Theta2']]\n",
    "lambda_ = 1\n",
    "\n",
    "annCost = cost(theta_list, X, Y, lambda_)\n",
    "print(f'Coste de la red neuronal: {annCost:.2f}%')\n",
    "\n",
    "checkNNGradients(backprop, reg_param=0)\n",
    "\n",
    "epsilon = 0.12\n",
    "theta1d = np.random.rand(theta1.shape[0], theta1.shape[1]) * 2 * epsilon - epsilon\n",
    "theta2d = np.random.rand(theta2.shape[0], theta2.shape[1]) * 2 * epsilon - epsilon\n",
    "##Descenso aplicando la actualizacion de parametros\n",
    "alpha = 1  # Tasa de aprendizaje\n",
    "iterations = 1000  # Número de iteraciones\n",
    "lambdaValue= 1 #Termino de regulariacion\n",
    "\n",
    "for _ in range(iterations):\n",
    "    J, grad1, grad2 = backprop([theta1d, theta2d], X_with_bias, Y, lambda_)\n",
    "\n",
    "    # Actualización de parámetros\n",
    "    theta1d = theta1d - alpha * grad1\n",
    "    theta2d = theta2d - alpha * grad2\n",
    "\n",
    "predictions = predict([theta1d, theta2d], X_with_bias)\n",
    "\n",
    "\n",
    "\n",
    "accuracy = accuracy_score(y,np.argmax(predictions, axis=1))\n",
    "print(f'Precisión de entrenamiento: {accuracy * 100:.2f}%')\n",
    "\n",
    "\n",
    "\n",
    "\n",
    "##PARTE OPCIONAL, No funciona pero la idea es la correcta \n",
    "\n",
    "# Usar minimize para optimizar los pesos\n",
    "# params = np.concatenate([theta1d.flatten(), theta2d.flatten()])\n",
    "# result = minimize(cost, params, (theta_list,X_with_bias,Y,lambdaValue), method='TNC', options={'maxiter': 100, 'disp': True})\n",
    "\n",
    "# # Obtener parámetros aprendidos\n",
    "# learned_params = result.x\n",
    "\n",
    "\n",
    "\n",
    "# # Imprimir la precisión después de la optimización\n",
    "# theta1_size = 25 * (400 + 1)\n",
    "# optimized_theta1 = np.reshape(learned_params[:theta1_size], (25, 400 + 1))\n",
    "# optimized_theta2 = np.reshape(learned_params[theta1_size:], (10, 25 + 1))\n",
    "# optimized_theta_list = [optimized_theta1, optimized_theta2]\n",
    "\n",
    "# predictions_optimized = predict(optimized_theta_list, X_with_bias)\n",
    "# accuracy_optimized = accuracy_score(y, np.argmax(predictions_optimized, axis=1) + 1)\n",
    "# print(f'Precisión de entrenamiento después de la optimización: {accuracy_optimized * 100:.2f}%')\n",
    "\n"
   ]
  },
  {
   "cell_type": "code",
   "execution_count": null,
   "id": "60ba0d49",
   "metadata": {},
   "outputs": [],
   "source": []
  },
  {
   "cell_type": "code",
   "execution_count": null,
   "id": "0779670e",
   "metadata": {},
   "outputs": [],
   "source": []
  },
  {
   "cell_type": "code",
   "execution_count": null,
   "id": "24d93923",
   "metadata": {},
   "outputs": [],
   "source": []
  },
  {
   "cell_type": "code",
   "execution_count": null,
   "id": "9335e167",
   "metadata": {},
   "outputs": [],
   "source": []
  }
 ],
 "metadata": {
  "kernelspec": {
   "display_name": "Python 3 (ipykernel)",
   "language": "python",
   "name": "python3"
  },
  "language_info": {
   "codemirror_mode": {
    "name": "ipython",
    "version": 3
   },
   "file_extension": ".py",
   "mimetype": "text/x-python",
   "name": "python",
   "nbconvert_exporter": "python",
   "pygments_lexer": "ipython3",
   "version": "3.11.4"
  }
 },
 "nbformat": 4,
 "nbformat_minor": 5
}
