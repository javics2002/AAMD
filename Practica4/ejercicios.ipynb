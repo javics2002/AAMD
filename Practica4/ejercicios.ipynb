{
 "cells": [
  {
   "cell_type": "code",
   "execution_count": 1,
   "id": "79756688",
   "metadata": {
    "scrolled": false
   },
   "outputs": [
    {
     "name": "stdout",
     "output_type": "stream",
     "text": [
      "Precisión de la red neuronal: 97.52%\n",
      "Matriz de confusión:\n",
      "True Positives: 491, False Positives: 16\n",
      "False Negatives: 9\n",
      "Accuracy: 0.97\n",
      "Recall: 0.98\n",
      "F1-Score: 0.98\n"
     ]
    }
   ],
   "source": [
    "from ANN import predict\n",
    "from utils import displayData\n",
    "\n",
    "import numpy as np\n",
    "\n",
    "%matplotlib inline\n",
    "import matplotlib.pyplot as plt\n",
    "from mpl_toolkits import mplot3d\n",
    "\n",
    "from scipy.io import loadmat, savemat\n",
    "from sklearn.metrics import accuracy_score\n",
    "\n",
    "#Ejercicio 1\n",
    "data = loadmat('data/ex3data1.mat', squeeze_me=True)\n",
    "y = data['y']\n",
    "X = data['X']\n",
    "\n",
    "weights = loadmat('data/ex3weights.mat')\n",
    "theta1, theta2 = weights['Theta1'], weights['Theta2']\n",
    "\n",
    "predictions = predict(theta1, theta2, X)\n",
    "\n",
    "accuracy = accuracy_score(y, predictions) * 100\n",
    "print(f'Precisión de la red neuronal: {accuracy:.2f}%')\n",
    "\n",
    "#Ejercicio 2\n",
    "positiveClass = 1\n",
    "\n",
    "truePositives = np.sum((predictions == positiveClass) & (y == positiveClass))\n",
    "falsePositives = np.sum((predictions == positiveClass) & (y != positiveClass))\n",
    "falseNegatives = np.sum((predictions != positiveClass) & (y == positiveClass))\n",
    "\n",
    "accuracy = truePositives / (truePositives + falsePositives)\n",
    "\n",
    "recall = truePositives / (truePositives + falseNegatives)\n",
    "\n",
    "f1Score = 2 * (accuracy * recall) / (accuracy + recall)\n",
    "\n",
    "print(f'Matriz de confusión:')\n",
    "print(f'True Positives: {truePositives}, False Positives: {falsePositives}')\n",
    "print(f'False Negatives: {falseNegatives}')\n",
    "print(f'Accuracy: {accuracy:.2f}')\n",
    "print(f'Recall: {recall:.2f}')\n",
    "print(f'F1-Score: {f1Score:.2f}')"
   ]
  },
  {
   "cell_type": "code",
   "execution_count": null,
   "id": "60ba0d49",
   "metadata": {},
   "outputs": [],
   "source": []
  },
  {
   "cell_type": "code",
   "execution_count": null,
   "id": "0779670e",
   "metadata": {},
   "outputs": [],
   "source": []
  },
  {
   "cell_type": "code",
   "execution_count": null,
   "id": "24d93923",
   "metadata": {},
   "outputs": [],
   "source": []
  }
 ],
 "metadata": {
  "kernelspec": {
   "display_name": "Python 3 (ipykernel)",
   "language": "python",
   "name": "python3"
  },
  "language_info": {
   "codemirror_mode": {
    "name": "ipython",
    "version": 3
   },
   "file_extension": ".py",
   "mimetype": "text/x-python",
   "name": "python",
   "nbconvert_exporter": "python",
   "pygments_lexer": "ipython3",
   "version": "3.11.4"
  }
 },
 "nbformat": 4,
 "nbformat_minor": 5
}
